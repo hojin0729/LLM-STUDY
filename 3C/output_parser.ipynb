{
 "cells": [
  {
   "cell_type": "code",
   "execution_count": 7,
   "id": "3fae7675",
   "metadata": {},
   "outputs": [
    {
     "name": "stdout",
     "output_type": "stream",
     "text": [
      "2025년 KBO 포스트시즌에 진출할 팀을 예측하는 것은 여러 변수에 따라 달라질 수 있지만, 최근 몇 년간의 성적과 팀 구성, 선수 영입 등을 고려하여 예측해볼 수 있습니다. 다음은 2025년 포스트시즌에 진출할 가능성이 높은 5팀입니다:\n",
      "\n",
      "1. **SSG 랜더스** - 최근 몇 년간 강력한 전력을 유지하고 있어 포스트시즌 진출 가능성이 높습니다.\n",
      "2. **LG 트윈스** - 꾸준한 성적을 내고 있으며, 젊은 선수들의 성장도 기대됩니다.\n",
      "3. **키움 히어로즈** - 강력한 타선과 안정적인 투수진을 보유하고 있어 경쟁력이 있습니다.\n",
      "4. **KT 위즈** - 최근 몇 년간의 성적이 좋고, 팀의 전력이 계속해서 강화되고 있습니다.\n",
      "5. **삼성 라이온즈** - 전통적인 강팀으로, 선수단의 재편성과 함께 포스트시즌 진출을 노릴 수 있습니다.\n",
      "\n",
      "이 예측은 현재의 팀 상황과 선수 구성에 기반한 것이며, 실제 결과는 시즌 진행에 따라 달라질 수 있습니다.\n"
     ]
    }
   ],
   "source": [
    "from langchain_openai import ChatOpenAI\n",
    "from langchain.prompts import HumanMessagePromptTemplate\n",
    "from langchain_core.messages import SystemMessage\n",
    "from langchain_core.prompts import ChatPromptTemplate\n",
    "from dotenv import load_dotenv\n",
    "\n",
    "# .env 파일에서 환경변수 불러옴\n",
    "load_dotenv()\n",
    "\n",
    "llm = ChatOpenAI(model_name=\"gpt-4o-mini\", temperature=0)\n",
    "\n",
    "chat_template = ChatPromptTemplate.from_messages(\n",
    "    [\n",
    "        SystemMessage(\n",
    "            content=(\n",
    "                \"너는 KBO 야구 전문가 AI야. 사용자가 원하는 야구팀을 순위로 나타내줘?\"\n",
    "            )\n",
    "        ),\n",
    "        HumanMessagePromptTemplate.from_template(\"{text}\"),\n",
    "    ]\n",
    ")\n",
    "\n",
    "messages = chat_template.format_messages(text=\"2025년 포스트시즌에 들어갈 야구 5팀을 말해줘\")\n",
    "answer = llm.invoke(messages)\n",
    "print(answer.content)\n"
   ]
  },
  {
   "cell_type": "code",
   "execution_count": 8,
   "id": "40b12c2e",
   "metadata": {},
   "outputs": [
    {
     "data": {
      "text/plain": [
       "['곡성', '사바하', '장화', '빨간 신']"
      ]
     },
     "execution_count": 8,
     "metadata": {},
     "output_type": "execute_result"
    }
   ],
   "source": [
    "from langchain_openai import ChatOpenAI\n",
    "from dotenv import load_dotenv\n",
    "from langchain.prompts import PromptTemplate\n",
    "from langchain_core.output_parsers import CommaSeparatedListOutputParser\n",
    "\n",
    "load_dotenv()\n",
    "\n",
    "# csv 파서 선언\n",
    "output_parser = CommaSeparatedListOutputParser()\n",
    "\n",
    "format_instructions = output_parser.get_format_instructions()\n",
    "\n",
    "prompt = PromptTemplate(\n",
    "    template=\"List {number} {subject}. answer in Korea \\n{format_instructions}\",\n",
    "    input_variables=[\"subject\", \"number\"],\n",
    "    partial_variables={\"format_instructions\": format_instructions},\n",
    ")\n",
    "\n",
    "model = ChatOpenAI(temperature=0)\n",
    "\n",
    "chain = prompt | model | output_parser\n",
    "chain.invoke({\"subject\": \"공포 영화\", \"number\": \"4\"})"
   ]
  },
  {
   "cell_type": "markdown",
   "id": "0edb2177",
   "metadata": {},
   "source": [
    "## JSON Parser"
   ]
  },
  {
   "cell_type": "code",
   "execution_count": 23,
   "id": "ea9a32a9",
   "metadata": {},
   "outputs": [
    {
     "name": "stdout",
     "output_type": "stream",
     "text": [
      "{'continent': 'Asia', 'population': '51780579'}\n"
     ]
    }
   ],
   "source": [
    "from typing import List\n",
    "from dotenv import load_dotenv\n",
    "from langchain.prompts import PromptTemplate\n",
    "from langchain_core.output_parsers import JsonOutputParser\n",
    "from pydantic import BaseModel, Field\n",
    "from langchain_openai import ChatOpenAI\n",
    "import os\n",
    "\n",
    "# 1. .env 파일에서 OPENAI_API_KEY 로드\n",
    "load_dotenv()\n",
    "\n",
    "# 2. 데이터 구조 정의 (Pydantic)\n",
    "class Country(BaseModel):\n",
    "    continent: str = Field(description=\"사용자가 물어본 나라가 속한 대륙\")\n",
    "    population: str = Field(description=\"사용자가 물어본 나라의 인구(int 형식)\")\n",
    "\n",
    "# 3. 쿼리 정의\n",
    "country_query = \"대한민국은 어떤 나라야?\"\n",
    "\n",
    "# 4. JSON 파서 설정\n",
    "parser = JsonOutputParser(pydantic_object=Country)\n",
    "\n",
    "# 5. 프롬프트 템플릿 정의\n",
    "prompt = PromptTemplate(\n",
    "    template=\"Answer the user query.\\n{format_instructions}\\n{query}\\n\",\n",
    "    input_variables=[\"query\"],\n",
    "    partial_variables={\"format_instructions\": parser.get_format_instructions()},\n",
    ")\n",
    "\n",
    "# 6. 모델 초기화 (API 키는 .env에서 자동으로 인식됨)\n",
    "model = ChatOpenAI(model_name=\"gpt-4o-mini\", temperature=0)\n",
    "\n",
    "# 7. 체인 구성 및 실행\n",
    "chain = prompt | model | parser\n",
    "result = chain.invoke({\"query\": country_query})\n",
    "\n",
    "# 8. 결과 출력\n",
    "print(result)\n"
   ]
  }
 ],
 "metadata": {
  "kernelspec": {
   "display_name": "langchain-rag",
   "language": "python",
   "name": "python3"
  },
  "language_info": {
   "codemirror_mode": {
    "name": "ipython",
    "version": 3
   },
   "file_extension": ".py",
   "mimetype": "text/x-python",
   "name": "python",
   "nbconvert_exporter": "python",
   "pygments_lexer": "ipython3",
   "version": "3.12.9"
  }
 },
 "nbformat": 4,
 "nbformat_minor": 5
}
