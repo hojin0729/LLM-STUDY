{
 "cells": [
  {
   "cell_type": "code",
   "execution_count": 3,
   "id": "2ee2d8a7",
   "metadata": {},
   "outputs": [
    {
     "name": "stdout",
     "output_type": "stream",
     "text": [
      "Question: 아이유로 삼행시 만들어줘\n",
      "\n",
      "                아: 아이유는\n",
      "                이: 이런 강의를 들을 이\n",
      "                유: 유가 없다.\n",
      "                \n"
     ]
    }
   ],
   "source": [
    "from langchain.prompts.few_shot import FewShotPromptTemplate\n",
    "from langchain.prompts.prompt import PromptTemplate\n",
    "examples = [\n",
    "    {\n",
    "        \"question\": \"아이유로 삼행시 만들어줘\",\n",
    "        \"answer\":\n",
    "                \"\"\"\n",
    "                아: 아이유는\n",
    "                이: 이런 강의를 들을 이\n",
    "                유: 유가 없다.\n",
    "                \"\"\"\n",
    "    }\n",
    "]\n",
    "\n",
    "example_prompt = PromptTemplate(\n",
    "                                input_variables=[\"question\", \"answer\"],\n",
    "                                template=\"Question: {question}\\n{answer}\"\n",
    "                                )\n",
    "\n",
    "print(example_prompt.format(**examples[0]))"
   ]
  },
  {
   "cell_type": "code",
   "execution_count": null,
   "id": "54d302b8",
   "metadata": {},
   "outputs": [
    {
     "name": "stdout",
     "output_type": "stream",
     "text": [
      "Question: 아이유로 삼행시 만들어줘\n",
      "\n",
      "                아: 아이유는\n",
      "                이: 이런 강의를 들을 이\n",
      "                유: 유가 없다.\n",
      "                \n",
      "\n",
      "Question: 호날두로 삼행시 만들어줘\n"
     ]
    }
   ],
   "source": [
    "from langchain.prompts.few_shot import FewShotPromptTemplate\n",
    "\n",
    "prompt = FewShotPromptTemplate(\n",
    "    examples = examples,\n",
    "    example_prompt = example_prompt,\n",
    "    suffix = \"Question: {input}\",\n",
    "    input_variables=[\"input\"]\n",
    ")\n",
    "\n",
    "print(prompt.format(input=\"호날두로 삼행시 만들어줘\"))"
   ]
  },
  {
   "cell_type": "code",
   "execution_count": 8,
   "id": "b18f6701",
   "metadata": {},
   "outputs": [
    {
     "name": "stdout",
     "output_type": "stream",
     "text": [
      "송: 송글송글 맺힌 이슬처럼  \n",
      "호: 호흡을 가다듬고,  \n",
      "진: 진심을 다해 오늘을 살아가자.\n"
     ]
    }
   ],
   "source": [
    "from langchain.chat_models import ChatOpenAI\n",
    "from langchain_core.prompts import PromptTemplate\n",
    "\n",
    "prompt = PromptTemplate.from_template(\"{input}\")\n",
    "model = ChatOpenAI(model=\"gpt-4o\")  # 또는 gpt-3.5-turbo 등\n",
    "\n",
    "result = model.invoke(prompt.format(input=\"송호진으로 삼행시 만들어줘\"))\n",
    "print(result.content)\n"
   ]
  }
 ],
 "metadata": {
  "kernelspec": {
   "display_name": "langchain-rag",
   "language": "python",
   "name": "python3"
  },
  "language_info": {
   "codemirror_mode": {
    "name": "ipython",
    "version": 3
   },
   "file_extension": ".py",
   "mimetype": "text/x-python",
   "name": "python",
   "nbconvert_exporter": "python",
   "pygments_lexer": "ipython3",
   "version": "3.12.9"
  }
 },
 "nbformat": 4,
 "nbformat_minor": 5
}
