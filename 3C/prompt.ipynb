{
 "cells": [
  {
   "cell_type": "code",
   "execution_count": 3,
   "id": "2ee2d8a7",
   "metadata": {},
   "outputs": [
    {
     "name": "stdout",
     "output_type": "stream",
     "text": [
      "Question: 아이유로 삼행시 만들어줘\n",
      "\n",
      "                아: 아이유는\n",
      "                이: 이런 강의를 들을 이\n",
      "                유: 유가 없다.\n",
      "                \n"
     ]
    }
   ],
   "source": [
    "from langchain.prompts.few_shot import FewShotPromptTemplate\n",
    "from langchain.prompts.prompt import PromptTemplate\n",
    "examples = [\n",
    "    {\n",
    "        \"question\": \"아이유로 삼행시 만들어줘\",\n",
    "        \"answer\":\n",
    "                \"\"\"\n",
    "                아: 아이유는\n",
    "                이: 이런 강의를 들을 이\n",
    "                유: 유가 없다.\n",
    "                \"\"\"\n",
    "    }\n",
    "]\n",
    "\n",
    "example_prompt = PromptTemplate(\n",
    "                                input_variables=[\"question\", \"answer\"],\n",
    "                                template=\"Question: {question}\\n{answer}\"\n",
    "                                )\n",
    "\n",
    "print(example_prompt.format(**examples[0]))"
   ]
  },
  {
   "cell_type": "code",
   "execution_count": null,
   "id": "54d302b8",
   "metadata": {},
   "outputs": [
    {
     "name": "stdout",
     "output_type": "stream",
     "text": [
      "Question: 아이유로 삼행시 만들어줘\n",
      "\n",
      "                아: 아이유는\n",
      "                이: 이런 강의를 들을 이\n",
      "                유: 유가 없다.\n",
      "                \n",
      "\n",
      "Question: 호날두로 삼행시 만들어줘\n"
     ]
    }
   ],
   "source": [
    "from langchain.prompts.few_shot import FewShotPromptTemplate\n",
    "\n",
    "prompt = FewShotPromptTemplate(\n",
    "    examples = examples,\n",
    "    example_prompt = example_prompt,\n",
    "    suffix = \"Question: {input}\",\n",
    "    input_variables=[\"input\"]\n",
    ")\n",
    "\n",
    "print(prompt.format(input=\"호날두로 삼행시 만들어줘\"))"
   ]
  },
  {
   "cell_type": "code",
   "execution_count": 1,
   "id": "b18f6701",
   "metadata": {},
   "outputs": [
    {
     "name": "stderr",
     "output_type": "stream",
     "text": [
      "C:\\Users\\Hojin\\AppData\\Local\\Temp\\ipykernel_18760\\3669903923.py:5: LangChainDeprecationWarning: The class `ChatOpenAI` was deprecated in LangChain 0.0.10 and will be removed in 1.0. An updated version of the class exists in the :class:`~langchain-openai package and should be used instead. To use it run `pip install -U :class:`~langchain-openai` and import as `from :class:`~langchain_openai import ChatOpenAI``.\n",
      "  model = ChatOpenAI(model=\"gpt-4o-mini\")  # 또는 gpt-3.5-turbo 등\n"
     ]
    },
    {
     "name": "stdout",
     "output_type": "stream",
     "text": [
      "송: 송이처럼 피어난 당신의 미소,  \n",
      "호: 호수처럼 깊은 마음을 담고,  \n",
      "진: 진실한 사랑으로 함께 걸어가길.  \n"
     ]
    }
   ],
   "source": [
    "from langchain.chat_models import ChatOpenAI\n",
    "from langchain_core.prompts import PromptTemplate\n",
    "\n",
    "prompt = PromptTemplate.from_template(\"{input}\")\n",
    "model = ChatOpenAI(model=\"gpt-4o-mini\")  # 또는 gpt-3.5-turbo 등\n",
    "\n",
    "result = model.invoke(prompt.format(input=\"송호진으로 삼행시 만들어줘\"))\n",
    "print(result.content)\n"
   ]
  },
  {
   "cell_type": "markdown",
   "id": "3b9cae86",
   "metadata": {},
   "source": [
    "## **Partial Prompt Template**"
   ]
  },
  {
   "cell_type": "code",
   "execution_count": 7,
   "id": "a30f6415",
   "metadata": {},
   "outputs": [
    {
     "name": "stdout",
     "output_type": "stream",
     "text": [
      "안녕하세요! 20세의 개발자라니 멋지네요. 어떤 분야의 개발을 하고 계신가요? 웹 개발, 앱 개발, 데이터 과학 등 여러 분야가 있을 텐데요. 또는 어떤 기술 스택을 주로 사용하시는지도 궁금합니다!\n"
     ]
    }
   ],
   "source": [
    "# Partial Prompt\n",
    "\n",
    "from langchain.chat_models import ChatOpenAI\n",
    "from langchain_core.prompts import PromptTemplate\n",
    "\n",
    "# 프롬프트 템플릿 정의\n",
    "prompt = PromptTemplate.from_template(\"나이: {age} \\n직업: {job}\")\n",
    "# age 값을 고정한 partial 프롬프트 생성\n",
    "partial_prompt = prompt.partial(age=\"20\")\n",
    "\n",
    "# model 초기화\n",
    "model = ChatOpenAI(model=\"gpt-4o-mini\")\n",
    "\n",
    "formatted_prompt = partial_prompt.format(job=\"개발자\")\n",
    "\n",
    "result = model.invoke(formatted_prompt)\n",
    "print(result.content)"
   ]
  },
  {
   "cell_type": "code",
   "execution_count": 9,
   "id": "49d711d2",
   "metadata": {},
   "outputs": [
    {
     "name": "stdout",
     "output_type": "stream",
     "text": [
      "Why did the calendar break up with the clock on 05/30/2025 at 13:32:44?\n",
      "\n",
      "Because it felt like their relationship was just going around in circles and needed some *time* apart!\n"
     ]
    }
   ],
   "source": [
    "from langchain.chat_models import ChatOpenAI\n",
    "from langchain_core.prompts import PromptTemplate\n",
    "from datetime import datetime\n",
    "\n",
    "def _get_datetime():\n",
    "    now = datetime.now()\n",
    "    return now.strftime(\"%m/%d/%Y, %H:%M:%S\")\n",
    "\n",
    "prompt = PromptTemplate(\n",
    "    template=\"Tell me a {adjective} joke about the day {date}\",\n",
    "    input_variables=[\"adjective\", \"date\"],\n",
    ")\n",
    "\n",
    "model = ChatOpenAI(model=\"gpt-4o-mini\")\n",
    "\n",
    "partial_prompt = prompt.partial(date=_get_datetime())\n",
    "\n",
    "formatted_prompt = partial_prompt.format(adjective=\"funny\")\n",
    "\n",
    "result = model.invoke(formatted_prompt)\n",
    "\n",
    "print(result.content)"
   ]
  }
 ],
 "metadata": {
  "kernelspec": {
   "display_name": "langchain-rag",
   "language": "python",
   "name": "python3"
  },
  "language_info": {
   "codemirror_mode": {
    "name": "ipython",
    "version": 3
   },
   "file_extension": ".py",
   "mimetype": "text/x-python",
   "name": "python",
   "nbconvert_exporter": "python",
   "pygments_lexer": "ipython3",
   "version": "3.12.9"
  }
 },
 "nbformat": 4,
 "nbformat_minor": 5
}
