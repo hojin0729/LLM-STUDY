{
 "cells": [
  {
   "cell_type": "markdown",
   "id": "fe7cc35e",
   "metadata": {},
   "source": [
    "## Text Splitters"
   ]
  },
  {
   "cell_type": "markdown",
   "id": "52f1acc7",
   "metadata": {},
   "source": [
    "#### [Chunk Overlap 개념 알아보기]"
   ]
  },
  {
   "cell_type": "code",
   "execution_count": null,
   "id": "11a361ba",
   "metadata": {},
   "outputs": [
    {
     "name": "stdout",
     "output_type": "stream",
     "text": [
      "page_content='혁신성장 정책금융 동향 : ICT 산업을 중심으로\n",
      " CIS이슈리포트 2022-2호 | 1 |\n",
      "<요 약>\n",
      "▶ 혁신성장 정책금융기관*은 혁신성장산업 영위기업을 발굴·지원하기 위한 정책금융 가이드라인**에 따라 혁신\n",
      "성장 기술분야에 대한 금융지원을 강화하고 있음\n",
      " * 산업은행, 기업은행, 수출입은행, 신용보증기금, 기술보증기금, 중소벤처기업진흥공단, 무역보험공사 등 \n",
      "11개 기관\n",
      " ** 혁신성장 정책금융 지원 대상을 판단하는 기준으로, ‘9대 테마 – 46개 분야 – 296개 품목’으로 구성\n",
      "￮ 정책금융기관의 혁신성장 정책금융 공급규모는 2017년 24.1조 원에서 2021년 85.4조 원으로 크게 증가\n",
      "하여 국내 산업 구조의 미래 산업으로의 전환을 충실히 지원하고 있음\n",
      "￮ 본 보고서는 ICT 산업의 정책금융 지원 트렌드를 파악하고, 혁신성장 정책금융이 집중되는 주요 품목의\n",
      "기술·시장 동향을 분석함' metadata={'producer': 'Hancom PDF 1.3.0.538', 'creator': 'Hancom PDF 1.3.0.538', 'creationdate': '2022-07-29T09:03:16+09:00', 'title': '', 'author': 'kmd kdy', 'subject': '', 'keywords': '', 'moddate': '2022-07-29T09:03:16+09:00', 'source': '../data/[이슈리포트 2022-2호] 혁신성장 정책금융 동향.pdf', 'total_pages': 18, 'page': 0}\n"
     ]
    },
    {
     "name": "stderr",
     "output_type": "stream",
     "text": [
      "c:\\Users\\Hojin\\anaconda3\\envs\\langchain-rag\\Lib\\site-packages\\pypdfium2\\_helpers\\textpage.py:80: UserWarning: get_text_range() call with default params will be implicitly redirected to get_text_bounded()\n",
      "  warnings.warn(\"get_text_range() call with default params will be implicitly redirected to get_text_bounded()\")\n"
     ]
    }
   ],
   "source": [
    "from langchain.document_loaders import PyPDFium2Loader\n",
    "loader = PyPDFium2Loader(r\"../data/[이슈리포트 2022-2호] 혁신성장 정책금융 동향.pdf\")\n",
    "pages = loader.load()\n",
    "\n",
    "from langchain_text_splitters import CharacterTextSplitter\n",
    "\n",
    "#구분자: 줄넘김, 청크 길이: 500, 청크 오버랩: 100, length_function: 글자수\n",
    "text_splitter = CharacterTextSplitter(\n",
    "    separator = \"\\n\",\n",
    "    chunk_size = 500,\n",
    "    chunk_overlap = 100,\n",
    "    length_function = len\n",
    ")\n",
    "\n",
    "texts = text_splitter.split_documents(pages)\n",
    "print(texts[0])"
   ]
  },
  {
   "cell_type": "code",
   "execution_count": 2,
   "id": "093dd461",
   "metadata": {},
   "outputs": [
    {
     "name": "stdout",
     "output_type": "stream",
     "text": [
      "page_content='￮ 본 보고서는 ICT 산업의 정책금융 지원 트렌드를 파악하고, 혁신성장 정책금융이 집중되는 주요 품목의\n",
      "기술·시장 동향을 분석함\n",
      "▶ 혁신성장 ICT 산업은 정보통신(6개 분야, 47개 품목), 전기전자(5개 분야, 27개 품목), 센서측정(3개 분야, 19개 품목) 테마로 구성되며, 혁신성장 정책금융기관의 공급액 규모는 2021년 말 기준 16.9조 원으로 \n",
      "2017년 이후 연평균 39.2% 지속 증가하고 있음\n",
      "￮ ICT 산업의 공급액 규모 비중은 혁신성장 정책금융 총 공급 규모의 약 20% 수준임\n",
      " * (‘17)18.7% → (’18)20.7% → (’19)18.5% → (’20)20.3% → (’21)19.8%\n",
      "혁신성장 정책금융 동향 :\n",
      "ICT 산업을 중심으로\n",
      "오동찬 선임조사역 (dcoh@kcredit.or.kr)' metadata={'producer': 'Hancom PDF 1.3.0.538', 'creator': 'Hancom PDF 1.3.0.538', 'creationdate': '2022-07-29T09:03:16+09:00', 'title': '', 'author': 'kmd kdy', 'subject': '', 'keywords': '', 'moddate': '2022-07-29T09:03:16+09:00', 'source': '../data/[이슈리포트 2022-2호] 혁신성장 정책금융 동향.pdf', 'total_pages': 18, 'page': 0}\n"
     ]
    }
   ],
   "source": [
    "print(texts[1])"
   ]
  },
  {
   "cell_type": "code",
   "execution_count": null,
   "id": "c609ae48",
   "metadata": {},
   "outputs": [
    {
     "name": "stdout",
     "output_type": "stream",
     "text": [
      "[784, 1372, 1156, 1195, 682, 655, 1550, 550, 1353, 1277, 1076, 531, 1245, 1094, 1293, 920, 956, 1034]\n"
     ]
    },
    {
     "name": "stderr",
     "output_type": "stream",
     "text": [
      "c:\\Users\\Hojin\\anaconda3\\envs\\langchain-rag\\Lib\\site-packages\\pypdfium2\\_helpers\\textpage.py:80: UserWarning: get_text_range() call with default params will be implicitly redirected to get_text_bounded()\n",
      "  warnings.warn(\"get_text_range() call with default params will be implicitly redirected to get_text_bounded()\")\n"
     ]
    }
   ],
   "source": [
    "loader = PyPDFium2Loader(r\"../data/[이슈리포트 2022-2호] 혁신성장 정책금융 동향.pdf\")\n",
    "\n",
    "pages = loader.load()\n",
    "\n",
    "from langchain_text_splitters import CharacterTextSplitter\n",
    "\n",
    "text_splitter = CharacterTextSplitter(\n",
    "    separator = \"\\n\\n\",\n",
    "    chunk_size = 500,\n",
    "    chunk_overlap = 100,\n",
    "    length_function = len,\n",
    "    is_separator_regex=False\n",
    ")\n",
    "\n",
    "texts = text_splitter.split_documents(pages)\n",
    "print([len(i.page_content) for i in texts])"
   ]
  },
  {
   "cell_type": "markdown",
   "id": "e8a8dde5",
   "metadata": {},
   "source": [
    "### 재귀적 문서 분할, RecursiveCharacterTextSplitter"
   ]
  },
  {
   "cell_type": "code",
   "execution_count": 13,
   "id": "3e360feb",
   "metadata": {},
   "outputs": [
    {
     "name": "stdout",
     "output_type": "stream",
     "text": [
      "[449, 407, 485, 496, 477, 151, 466, 484, 334, 467, 454, 427, 492, 271, 473, 230, 485, 456, 455, 347, 481, 144, 496, 494, 488, 141, 479, 474, 456, 497, 485, 274, 478, 107, 482, 480, 410, 463, 484, 294, 490, 484, 453, 478, 498, 495, 485, 82, 493, 490, 228]\n"
     ]
    }
   ],
   "source": [
    "from langchain.document_loaders import PyPDFium2Loader\n",
    "\n",
    "loader = PyPDFium2Loader(r\"../data/[이슈리포트 2022-2호] 혁신성장 정책금융 동향.pdf\")\n",
    "\n",
    "pages = loader.load()\n",
    "\n",
    "from langchain_text_splitters import RecursiveCharacterTextSplitter\n",
    "\n",
    "text_splitter = RecursiveCharacterTextSplitter (\n",
    "    separators=[\"\\n\\n\", \"\\n\", \" \", \"\"],\n",
    "    chunk_size=500,\n",
    "    chunk_overlap=100,\n",
    "    length_function=len,\n",
    "    is_separator_regex=False,\n",
    ")\n",
    "\n",
    "texts = text_splitter.split_documents(pages)\n",
    "print([len(i.page_content) for i in texts])"
   ]
  },
  {
   "cell_type": "markdown",
   "id": "deaa924a",
   "metadata": {},
   "source": [
    "### 문맥 파악 통한 문서 분할, Semantic Chunker"
   ]
  },
  {
   "cell_type": "code",
   "execution_count": 14,
   "id": "ff81ebca",
   "metadata": {},
   "outputs": [
    {
     "name": "stdout",
     "output_type": "stream",
     "text": [
      "----------------------------------------------------------------------------------------------------\n",
      "[첫번째 청크]\n",
      "1\n",
      "인공지능 언어모형을 이용한 인플레이션 어조지수 개발 및 시사점\n",
      "뉴스기사, 소셜미디어와 같은 텍스트 데이터는 크게 두 가지 경로를 \n",
      "통해 경제 분석에 유용한 정보를 제공할 수 있다. 첫째, 지정학적 리스\n",
      "크, 이상기후 등 이벤트는 수입물가지수와 같은 공식통계에 앞서 뉴스 \n",
      "속보나 인터넷 커뮤니티에 먼저 반영되며 향후 인플레이션 수준에 대한 \n",
      "정보를 제공한다. 둘째, 거시경제 여건, 기업의 가격설정 행태 등에 대\n",
      "한 언론 보도는 기업의 인플레이션 기대를 변화시킴으로써 의사결정에 \n",
      "영향을 미칠 수 있다. 그러나, 이러한 중요성에도 불구하고, 텍스트 데\n",
      "이터는 계량화가 쉽지 않아 경제 분석에 활용하는 데 어려움이 크다는 \n",
      "평가도 있다(로버트 쉴러, 2013년 노벨 경제학상 수상). 최근 정보통신 및 인공지능 기술과 함께 텍스트 분석기법이 빠르게 \n",
      "발전하면서 경제 분석에 텍스트를 활용하려는 시도가 점차 늘고 있다. 대표적으로 뉴스기사에 반영된 경제 불확실성을 측정하거나 중앙은행 \n",
      "회의록에 반영된 통화정책 기조를 평가한 연구가 있으며, 각국 중앙은\n",
      "행도 텍스트에 반영된 경제주체의 심리를 파악하여 경기상황을 판단하\n",
      "거나 전망하기 위해 노력하고 있다. 이들 연구는 문서내 단어별 빈도를 \n",
      "계산하는 간단한 방법부터 단어의 문맥적 의미를 파악하는 딥러닝 알\n",
      "고리즘까지 다양한 분석기법을 활용하고 있다.\n",
      "----------------------------------------------------------------------------------------------------\n",
      "[두번째 청크]\n",
      "이 가운데, 최근 특히 \n",
      "주목받는 분석기법으로 인공지능 언어모형이 있다. 자연어는 문맥에 \n",
      "따라 단어의 의미가 달라지기 때문에, 정확도 높은 모형을 훈련하는 데 \n",
      "상당한 시간과 비용이 소요된다. 이에 대안으로 제시된 인공지능 언어\n",
      "모형은 기존 훈련 결과를 재활용함으로써 개발 시간과 비용은 절감하\n",
      "면서도 문서 분류, 검색 등 과제에서 높은 정확도를 보이고 있다. 본 연구는 인공지능 언어모형을 이용하여 뉴스기사에 나타난 인플레\n",
      "이션 어조(tone)를 측정하고, 인플레이션 전망에 활용할 수 있는지 살\n",
      "펴보았다. 먼저, 인공지능 언어모형을 이용하여 개별 문장의 인플레\n",
      "이션 어조를 상승, 중립, 하락으로 분류하고, 문장별 어조를 집계하여 \n",
      "전체 뉴스기사의 인플레이션 어조를 지수로 나타내었다. 다음으로, 어\n",
      "조지수와 소비자물가상승률의 관계를 분석하였다. 분석 결과, 어조지\n",
      "수는 물가상승률의 추세 전환을 1~2분기 선행하고, 전망모형의 예측\n",
      "력도 개선하는 등 인플레이션 전망에 유용한 정보를 제공하는 것으로 \n",
      "판단된다. 텍스트 분석기법이 발전하고 정보 원천으로서 텍스트 데이터에 대한 \n",
      "관심이 높아지면서 각국 중앙은행과 연구기관, 국제기구는 텍스트로부\n",
      "터 유용한 정보를 읽어내기 위해 노력하고 있다. 그러나, 아직 텍스트 \n",
      "데이터는 분석이 까다롭고, 의미있는 정보를 추출하기도 어렵다는 인\n",
      "식이 있다. 본 연구는 인공지능 언어모형을 활용하여 상대적으로 적은 \n",
      "시간과 비용으로 뉴스기사에 포함된 인플레이션 정보를 효율적으로 추\n",
      "출해낼 수 있음을 보였다. 향후 경제·금융 도메인에 특화된 인공지능 \n",
      "언어모형 및 분석 인프라가 갖추어진다면, 경제 분석,업무효율화 등 \n",
      "과제에서 텍스트 데이터 활용이 크게 증가할 것으로 기대된다. BOK 이슈노트\n",
      "제 2022-38호 BANK OF KOREA\n",
      "2022년 10월 17일\n",
      "인공지능 언어모형을 이용한 인플레이션 \n",
      "어조지수 개발 및 시사점\n",
      "한승욱\n",
      "한국은행 디지털혁신실 \n",
      "혁신기획팀 과장\n",
      "Tel. 02-759-4619\n",
      "swhan@bok.or.kr\n",
      "김태완\n",
      "한국은행 디지털혁신실 \n",
      "디지털신기술반 과장\n",
      "Tel.\n"
     ]
    }
   ],
   "source": [
    "import os\n",
    "from dotenv import load_dotenv\n",
    "\n",
    "# .env 파일 로드\n",
    "load_dotenv()\n",
    "\n",
    "from langchain.document_loaders import PyPDFLoader\n",
    "from langchain_experimental.text_splitter import SemanticChunker\n",
    "from langchain_openai.embeddings import OpenAIEmbeddings\n",
    "\n",
    "# 환경변수에서 API 키 가져오기\n",
    "openai_api_key = os.environ.get(\"OPENAI_API_KEY\")\n",
    "\n",
    "# PDF 파일 로딩\n",
    "loader = PyPDFLoader(r\"../data/BOK 이슈노트 제2022-38호 인공지능 언어모형을 이용한 인플레이션 어조지수 개발 및 시사점.pdf\")\n",
    "pages = loader.load_and_split()\n",
    "\n",
    "# Semantic 기반 청크 분할기 설정\n",
    "text_splitter = SemanticChunker(OpenAIEmbeddings(openai_api_key=openai_api_key))\n",
    "\n",
    "# 문서 분할 실행\n",
    "texts = text_splitter.split_documents(pages)\n",
    "\n",
    "# 결과 출력\n",
    "print(\"-\" * 100)\n",
    "print(\"[첫번째 청크]\")\n",
    "print(texts[0].page_content)\n",
    "print(\"-\" * 100)\n",
    "print(\"[두번째 청크]\")\n",
    "print(texts[1].page_content)\n"
   ]
  }
 ],
 "metadata": {
  "kernelspec": {
   "display_name": "langchain-rag",
   "language": "python",
   "name": "python3"
  },
  "language_info": {
   "codemirror_mode": {
    "name": "ipython",
    "version": 3
   },
   "file_extension": ".py",
   "mimetype": "text/x-python",
   "name": "python",
   "nbconvert_exporter": "python",
   "pygments_lexer": "ipython3",
   "version": "3.12.9"
  }
 },
 "nbformat": 4,
 "nbformat_minor": 5
}
