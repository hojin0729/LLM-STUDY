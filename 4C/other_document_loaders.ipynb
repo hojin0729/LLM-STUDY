{
 "cells": [
  {
   "cell_type": "markdown",
   "id": "344d68bf",
   "metadata": {},
   "source": [
    "## Office file Loaders"
   ]
  },
  {
   "cell_type": "markdown",
   "id": "1376bf29",
   "metadata": {},
   "source": [
    "### Word 파일 불러오기"
   ]
  },
  {
   "cell_type": "code",
   "execution_count": null,
   "id": "a7563f84",
   "metadata": {},
   "outputs": [
    {
     "ename": "NameError",
     "evalue": "name 'data' is not defined",
     "output_type": "error",
     "traceback": [
      "\u001b[31m---------------------------------------------------------------------------\u001b[39m",
      "\u001b[31mNameError\u001b[39m                                 Traceback (most recent call last)",
      "\u001b[36mCell\u001b[39m\u001b[36m \u001b[39m\u001b[32mIn[13]\u001b[39m\u001b[32m, line 11\u001b[39m\n\u001b[32m      5\u001b[39m loader = Docx2txtLoader(\u001b[33mr\u001b[39m\u001b[33m\"\u001b[39m\u001b[33m../data/[삼성전자] 사업보고서(일반법인) (2021.03.09).docx\u001b[39m\u001b[33m\"\u001b[39m)\n\u001b[32m      7\u001b[39m \u001b[38;5;66;03m# 텍스트 분할\u001b[39;00m\n\u001b[32m      8\u001b[39m \n\u001b[32m      9\u001b[39m \n\u001b[32m     10\u001b[39m \u001b[38;5;66;03m# 분할된 조각 수 확인\u001b[39;00m\n\u001b[32m---> \u001b[39m\u001b[32m11\u001b[39m \u001b[38;5;28mprint\u001b[39m(\u001b[33mf\u001b[39m\u001b[33m\"\u001b[39m\u001b[33m총 \u001b[39m\u001b[38;5;132;01m{\u001b[39;00m\u001b[38;5;28mlen\u001b[39m(\u001b[43mdata\u001b[49m)\u001b[38;5;132;01m}\u001b[39;00m\u001b[33m개의 텍스트 조각이 있습니다.\u001b[39m\u001b[38;5;130;01m\\n\u001b[39;00m\u001b[33m\"\u001b[39m)\n\u001b[32m     13\u001b[39m \u001b[38;5;66;03m# 모든 조각의 앞부분 300자씩 출력\u001b[39;00m\n\u001b[32m     14\u001b[39m \u001b[38;5;28;01mfor\u001b[39;00m i, doc \u001b[38;5;129;01min\u001b[39;00m \u001b[38;5;28menumerate\u001b[39m(data):\n",
      "\u001b[31mNameError\u001b[39m: name 'data' is not defined"
     ]
    }
   ],
   "source": [
    "#Docx2txtLoader 불러오기\n",
    "from langchain.document_loaders import Docx2txtLoader\n",
    "\n",
    "#Docx2txtLoader로 워드 파일 불러오기(경로 설정)\n",
    "loader = Docx2txtLoader(r\"../data/[삼성전자] 사업보고서(일반법인) (2021.03.09).docx\")\n",
    "\n",
    "#페이지로 분할하여 불러오기\n",
    "data = loader.load_and_split()\n",
    "\n",
    "#첫번째 페이지 출력하기\n",
    "print(data[12].page_content[:500])"
   ]
  }
 ],
 "metadata": {
  "kernelspec": {
   "display_name": "langchain-rag",
   "language": "python",
   "name": "python3"
  },
  "language_info": {
   "codemirror_mode": {
    "name": "ipython",
    "version": 3
   },
   "file_extension": ".py",
   "mimetype": "text/x-python",
   "name": "python",
   "nbconvert_exporter": "python",
   "pygments_lexer": "ipython3",
   "version": "3.12.9"
  }
 },
 "nbformat": 4,
 "nbformat_minor": 5
}
